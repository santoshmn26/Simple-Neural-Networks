{
 "cells": [
  {
   "cell_type": "code",
   "execution_count": 34,
   "metadata": {},
   "outputs": [],
   "source": [
    "import tensorflow as tf\n",
    "import numpy\n",
    "import matplotlib.pyplot as plt\n",
    "rng = numpy.random"
   ]
  },
  {
   "cell_type": "code",
   "execution_count": 35,
   "metadata": {},
   "outputs": [],
   "source": [
    "learning_rate=0.01   # Learning rate or rate at which the weight changes\n",
    "training_epochs=1000 # Number of times the training the data to the neural network\n",
    "display_step=50"
   ]
  },
  {
   "cell_type": "code",
   "execution_count": 36,
   "metadata": {},
   "outputs": [],
   "source": [
    "train_X = numpy.asarray([3.3,4.4,5.5,6.71,6.93,4.168,9.779,6.182,7.59,2.167,\n",
    "                         7.042,10.791,5.313,7.997,5.654,9.27,3.1])\n",
    "train_Y = numpy.asarray([1.7,2.76,2.09,3.19,1.694,1.573,3.366,2.596,2.53,1.221,\n",
    "                         2.827,3.465,1.65,2.904,2.42,2.94,1.3])\n",
    "n_samples = train_X.shape[0]"
   ]
  },
  {
   "cell_type": "code",
   "execution_count": 37,
   "metadata": {},
   "outputs": [],
   "source": [
    "# tf Graph Input\n",
    "X = tf.placeholder(\"float\")\n",
    "Y = tf.placeholder(\"float\")\n",
    "\n",
    "# Set model weights\n",
    "W = tf.Variable(rng.randn(), name=\"weight\")\n",
    "b = tf.Variable(rng.randn(), name=\"bias\")"
   ]
  },
  {
   "cell_type": "code",
   "execution_count": 38,
   "metadata": {},
   "outputs": [],
   "source": [
    "# Construct a linear model\n",
    "pred = tf.add(tf.multiply(X, W), b)\n",
    "# Mean squared error\n",
    "cost = tf.reduce_sum(tf.pow(pred-Y, 2))/(2*n_samples)\n",
    "# Gradient descent\n",
    "optimizer = tf.train.GradientDescentOptimizer(learning_rate).minimize(cost)"
   ]
  },
  {
   "cell_type": "code",
   "execution_count": 39,
   "metadata": {},
   "outputs": [],
   "source": [
    "init = tf.global_variables_initializer()"
   ]
  },
  {
   "cell_type": "code",
   "execution_count": 40,
   "metadata": {},
   "outputs": [
    {
     "name": "stdout",
     "output_type": "stream",
     "text": [
      "Epoch: 0050 cost= 0.102555111 W= 0.33911753 b= 0.1574377\n",
      "Epoch: 0100 cost= 0.099597193 W= 0.33379307 b= 0.19574124\n",
      "Epoch: 0150 cost= 0.096981093 W= 0.32878536 b= 0.23176672\n",
      "Epoch: 0200 cost= 0.094667368 W= 0.3240755 b= 0.2656495\n",
      "Epoch: 0250 cost= 0.092621036 W= 0.3196456 b= 0.29751718\n",
      "Epoch: 0300 cost= 0.090811267 W= 0.31547928 b= 0.32748944\n",
      "Epoch: 0350 cost= 0.089210734 W= 0.31156078 b= 0.35567883\n",
      "Epoch: 0400 cost= 0.087795213 W= 0.30787528 b= 0.38219202\n",
      "Epoch: 0450 cost= 0.086543381 W= 0.30440894 b= 0.40712842\n",
      "Epoch: 0500 cost= 0.085436322 W= 0.30114895 b= 0.43058133\n",
      "Epoch: 0550 cost= 0.084457316 W= 0.29808268 b= 0.45263934\n",
      "Epoch: 0600 cost= 0.083591528 W= 0.29519877 b= 0.47338617\n",
      "Epoch: 0650 cost= 0.082825884 W= 0.2924863 b= 0.4928993\n",
      "Epoch: 0700 cost= 0.082148857 W= 0.28993538 b= 0.51125056\n",
      "Epoch: 0750 cost= 0.081550188 W= 0.28753608 b= 0.5285113\n",
      "Epoch: 0800 cost= 0.081020787 W= 0.2852794 b= 0.5447457\n",
      "Epoch: 0850 cost= 0.080552675 W= 0.28315687 b= 0.5600148\n",
      "Epoch: 0900 cost= 0.080138788 W= 0.28116053 b= 0.5743756\n",
      "Epoch: 0950 cost= 0.079772778 W= 0.27928302 b= 0.5878829\n",
      "Epoch: 1000 cost= 0.079449251 W= 0.2775172 b= 0.6005859\n",
      "Optimization Finished!\n",
      "Training cost= 0.07944925 W= 0.2775172 b= 0.6005859 \n",
      "\n"
     ]
    },
    {
     "data": {
      "image/png": "[encoded data removed]",
      "text/plain": [
       "<Figure size 432x288 with 1 Axes>"
      ]
     },
     "metadata": {
      "needs_background": "light"
     },
     "output_type": "display_data"
    }
   ],
   "source": [
    "with tf.Session() as sess:\n",
    "    sess.run(init)\n",
    "\n",
    "    # Fit all training data\n",
    "    for epoch in range(training_epochs):\n",
    "        for (x, y) in zip(train_X, train_Y):\n",
    "            sess.run(optimizer, feed_dict={X: x, Y: y})\n",
    "\n",
    "        #Display logs per epoch step\n",
    "        if (epoch+1) % display_step == 0:\n",
    "            c = sess.run(cost, feed_dict={X: train_X, Y:train_Y})\n",
    "            print (\"Epoch:\", '%04d' % (epoch+1), \"cost=\", \"{:.9f}\".format(c), \\\n",
    "                \"W=\", sess.run(W), \"b=\", sess.run(b))\n",
    "        \n",
    "\n",
    "    print (\"Optimization Finished!\")\n",
    "    training_cost = sess.run(cost, feed_dict={X: train_X, Y: train_Y})\n",
    "    print (\"Training cost=\", training_cost, \"W=\", sess.run(W), \"b=\", sess.run(b), '\\n')\n",
    "\n",
    "    #Graphic display\n",
    "    plt.plot(train_X, train_Y, 'ro', label='Original data')\n",
    "    plt.plot(train_X, sess.run(W) * train_X + sess.run(b), label='Fitted line')\n",
    "    plt.legend()\n",
    "    plt.show()"
   ]
  },
  {
   "cell_type": "code",
   "execution_count": null,
   "metadata": {},
   "outputs": [],
   "source": []
  }
 ],
 "metadata": {
  "kernelspec": {
   "display_name": "Python 3",
   "language": "python",
   "name": "python3"
  },
  "language_info": {
   "codemirror_mode": {
    "name": "ipython",
    "version": 3
   },
   "file_extension": ".py",
   "mimetype": "text/x-python",
   "name": "python",
   "nbconvert_exporter": "python",
   "pygments_lexer": "ipython3",
   "version": "3.6.6"
  }
 },
 "nbformat": 4,
 "nbformat_minor": 2
}
